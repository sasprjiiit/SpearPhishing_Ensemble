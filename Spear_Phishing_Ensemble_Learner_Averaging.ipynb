{
 "cells": [
  {
   "cell_type": "code",
   "execution_count": 1,
   "metadata": {},
   "outputs": [
    {
     "data": {
      "text/html": [
       "<div>\n",
       "<style scoped>\n",
       "    .dataframe tbody tr th:only-of-type {\n",
       "        vertical-align: middle;\n",
       "    }\n",
       "\n",
       "    .dataframe tbody tr th {\n",
       "        vertical-align: top;\n",
       "    }\n",
       "\n",
       "    .dataframe thead th {\n",
       "        text-align: right;\n",
       "    }\n",
       "</style>\n",
       "<table border=\"1\" class=\"dataframe\">\n",
       "  <thead>\n",
       "    <tr style=\"text-align: right;\">\n",
       "      <th></th>\n",
       "      <th>Unnamed: 0</th>\n",
       "      <th>Tweet</th>\n",
       "      <th>following</th>\n",
       "      <th>followers</th>\n",
       "      <th>actions</th>\n",
       "      <th>is_retweet</th>\n",
       "      <th>location</th>\n",
       "      <th>Type</th>\n",
       "      <th>Unnamed: 7</th>\n",
       "      <th>Type_num</th>\n",
       "    </tr>\n",
       "  </thead>\n",
       "  <tbody>\n",
       "    <tr>\n",
       "      <th>0</th>\n",
       "      <td>1</td>\n",
       "      <td>'@realDonaldTrump @USNavy RIP TO HEROES'</td>\n",
       "      <td>42096.0</td>\n",
       "      <td>61060.0</td>\n",
       "      <td>5001.0</td>\n",
       "      <td>0.0</td>\n",
       "      <td>South Padre Island, Texas</td>\n",
       "      <td>Spam</td>\n",
       "      <td>NaN</td>\n",
       "      <td>1</td>\n",
       "    </tr>\n",
       "    <tr>\n",
       "      <th>1</th>\n",
       "      <td>4</td>\n",
       "      <td>#DidYouKnow ► Mahatma Gandhi made a brief visi...</td>\n",
       "      <td>17800.0</td>\n",
       "      <td>35100.0</td>\n",
       "      <td>NaN</td>\n",
       "      <td>0.0</td>\n",
       "      <td>Nottingham, England</td>\n",
       "      <td>Quality</td>\n",
       "      <td>NaN</td>\n",
       "      <td>0</td>\n",
       "    </tr>\n",
       "    <tr>\n",
       "      <th>2</th>\n",
       "      <td>6</td>\n",
       "      <td>please don't talk about me like that i'm only ...</td>\n",
       "      <td>0.0</td>\n",
       "      <td>6200000.0</td>\n",
       "      <td>NaN</td>\n",
       "      <td>1.0</td>\n",
       "      <td>los angeles, ca</td>\n",
       "      <td>Quality</td>\n",
       "      <td>NaN</td>\n",
       "      <td>0</td>\n",
       "    </tr>\n",
       "    <tr>\n",
       "      <th>3</th>\n",
       "      <td>22</td>\n",
       "      <td>Need I remind everyone that the first lines yo...</td>\n",
       "      <td>0.0</td>\n",
       "      <td>275000.0</td>\n",
       "      <td>80.0</td>\n",
       "      <td>0.0</td>\n",
       "      <td>Johannesburg, South Africa</td>\n",
       "      <td>Quality</td>\n",
       "      <td>NaN</td>\n",
       "      <td>0</td>\n",
       "    </tr>\n",
       "    <tr>\n",
       "      <th>4</th>\n",
       "      <td>23</td>\n",
       "      <td>Watch: #MonstaX Goes “#AllIn” For Their Comeba...</td>\n",
       "      <td>0.0</td>\n",
       "      <td>2250000.0</td>\n",
       "      <td>NaN</td>\n",
       "      <td>0.0</td>\n",
       "      <td>Lord Juja ❤️</td>\n",
       "      <td>Quality</td>\n",
       "      <td>NaN</td>\n",
       "      <td>0</td>\n",
       "    </tr>\n",
       "  </tbody>\n",
       "</table>\n",
       "</div>"
      ],
      "text/plain": [
       "   Unnamed: 0                                              Tweet  following  \\\n",
       "0           1           '@realDonaldTrump @USNavy RIP TO HEROES'    42096.0   \n",
       "1           4  #DidYouKnow ► Mahatma Gandhi made a brief visi...    17800.0   \n",
       "2           6  please don't talk about me like that i'm only ...        0.0   \n",
       "3          22  Need I remind everyone that the first lines yo...        0.0   \n",
       "4          23  Watch: #MonstaX Goes “#AllIn” For Their Comeba...        0.0   \n",
       "\n",
       "   followers  actions  is_retweet                    location     Type  \\\n",
       "0    61060.0   5001.0         0.0   South Padre Island, Texas     Spam   \n",
       "1    35100.0      NaN         0.0         Nottingham, England  Quality   \n",
       "2  6200000.0      NaN         1.0             los angeles, ca  Quality   \n",
       "3   275000.0     80.0         0.0  Johannesburg, South Africa  Quality   \n",
       "4  2250000.0      NaN         0.0                Lord Juja ❤️  Quality   \n",
       "\n",
       "  Unnamed: 7  Type_num  \n",
       "0        NaN         1  \n",
       "1        NaN         0  \n",
       "2        NaN         0  \n",
       "3        NaN         0  \n",
       "4        NaN         0  "
      ]
     },
     "execution_count": 1,
     "metadata": {},
     "output_type": "execute_result"
    }
   ],
   "source": [
    "import pandas as pd\n",
    "df = pd.read_csv('spear_phishing_train.csv')\n",
    "df.head()"
   ]
  },
  {
   "cell_type": "code",
   "execution_count": 2,
   "metadata": {},
   "outputs": [],
   "source": [
    "from sklearn.model_selection import train_test_split\n",
    "X_train, X_test, y_train, y_test = train_test_split(df.Tweet, df.Type_num, test_size = 0.30)"
   ]
  },
  {
   "cell_type": "code",
   "execution_count": 3,
   "metadata": {},
   "outputs": [
    {
     "data": {
      "text/plain": [
       "array([[0, 0, 0, ..., 0, 0, 0],\n",
       "       [0, 0, 0, ..., 0, 0, 0],\n",
       "       [0, 0, 0, ..., 0, 0, 0],\n",
       "       [0, 0, 0, ..., 0, 0, 0]], dtype=int64)"
      ]
     },
     "execution_count": 3,
     "metadata": {},
     "output_type": "execute_result"
    }
   ],
   "source": [
    "from sklearn.feature_extraction.text import CountVectorizer\n",
    "vectorizer = CountVectorizer()\n",
    "X_train_count = vectorizer.fit_transform(X_train.values)\n",
    "X_train_count.toarray()[:4]"
   ]
  },
  {
   "cell_type": "code",
   "execution_count": 4,
   "metadata": {},
   "outputs": [
    {
     "data": {
      "text/plain": [
       "RandomForestClassifier(bootstrap=True, ccp_alpha=0.0, class_weight=None,\n",
       "                       criterion='gini', max_depth=None, max_features='auto',\n",
       "                       max_leaf_nodes=None, max_samples=None,\n",
       "                       min_impurity_decrease=0.0, min_impurity_split=None,\n",
       "                       min_samples_leaf=1, min_samples_split=2,\n",
       "                       min_weight_fraction_leaf=0.0, n_estimators=140,\n",
       "                       n_jobs=None, oob_score=False, random_state=None,\n",
       "                       verbose=0, warm_start=False)"
      ]
     },
     "execution_count": 4,
     "metadata": {},
     "output_type": "execute_result"
    }
   ],
   "source": [
    "from sklearn.naive_bayes import MultinomialNB\n",
    "from sklearn.tree import DecisionTreeClassifier\n",
    "from sklearn.neighbors import KNeighborsClassifier\n",
    "from sklearn.linear_model import LogisticRegression\n",
    "from sklearn import svm\n",
    "from sklearn.ensemble import RandomForestClassifier, VotingClassifier\n",
    "\n",
    "clf1 = MultinomialNB()\n",
    "clf2 = DecisionTreeClassifier(random_state=0, max_depth=50)\n",
    "clf3 = KNeighborsClassifier(n_neighbors=1)\n",
    "clf4 = LogisticRegression(random_state=0)\n",
    "clf5 = svm.SVC()\n",
    "clf6 = RandomForestClassifier(n_estimators = 140)\n",
    "\n",
    "clf1.fit(X_train_count, y_train)\n",
    "clf2.fit(X_train_count, y_train)\n",
    "clf3.fit(X_train_count, y_train)\n",
    "clf4.fit(X_train_count, y_train)\n",
    "clf5.fit(X_train_count, y_train)\n",
    "clf6.fit(X_train_count, y_train)"
   ]
  },
  {
   "cell_type": "code",
   "execution_count": 5,
   "metadata": {},
   "outputs": [
    {
     "name": "stderr",
     "output_type": "stream",
     "text": [
      "C:\\Users\\samra\\anaconda3\\lib\\site-packages\\sklearn\\utils\\deprecation.py:144: FutureWarning: The sklearn.svm.libsvm module is  deprecated in version 0.22 and will be removed in version 0.24. The corresponding classes / functions should instead be imported from sklearn.svm. Anything that cannot be imported from sklearn.svm is now part of the private API.\n",
      "  warnings.warn(message, FutureWarning)\n"
     ]
    },
    {
     "data": {
      "text/plain": [
       "array([[9.85207333e-01, 1.47926665e-02],\n",
       "       [9.99694783e-01, 3.05217181e-04],\n",
       "       [9.95282458e-01, 4.71754194e-03],\n",
       "       ...,\n",
       "       [7.80690079e-01, 2.19309921e-01],\n",
       "       [9.87223830e-01, 1.27761696e-02],\n",
       "       [7.47405300e-01, 2.52594700e-01]])"
      ]
     },
     "execution_count": 5,
     "metadata": {},
     "output_type": "execute_result"
    }
   ],
   "source": [
    "from sklearn.svm.libsvm import predict_proba\n",
    "from sklearn.multioutput import MultiOutputClassifier\n",
    "\n",
    "X_test_count = vectorizer.transform(X_test)\n",
    "pred1 = clf1.predict_proba(X_test_count)\n",
    "pred2 = clf2.predict_proba(X_test_count)\n",
    "pred3 = clf3.predict_proba(X_test_count)\n",
    "pred4 = clf4.predict_proba(X_test_count)\n",
    "pred6 = clf6.predict_proba(X_test_count)\n",
    "\n",
    "final_pred = (pred1 + pred2 + pred3 + pred4 + pred6)/5\n",
    "final_pred"
   ]
  },
  {
   "cell_type": "code",
   "execution_count": 6,
   "metadata": {},
   "outputs": [
    {
     "data": {
      "text/plain": [
       "0.9496644295302014"
      ]
     },
     "execution_count": 6,
     "metadata": {},
     "output_type": "execute_result"
    }
   ],
   "source": [
    "from sklearn.metrics import accuracy_score\n",
    "\n",
    "y_pred = []\n",
    "for x in final_pred :\n",
    "    if x[0] > 0.5 :\n",
    "        y_pred.append(0)\n",
    "    else :\n",
    "        y_pred.append(1)\n",
    "\n",
    "accuracy_score(y_pred, y_test)"
   ]
  },
  {
   "cell_type": "code",
   "execution_count": null,
   "metadata": {},
   "outputs": [],
   "source": []
  }
 ],
 "metadata": {
  "kernelspec": {
   "display_name": "Python 3",
   "language": "python",
   "name": "python3"
  },
  "language_info": {
   "codemirror_mode": {
    "name": "ipython",
    "version": 3
   },
   "file_extension": ".py",
   "mimetype": "text/x-python",
   "name": "python",
   "nbconvert_exporter": "python",
   "pygments_lexer": "ipython3",
   "version": "3.7.6"
  }
 },
 "nbformat": 4,
 "nbformat_minor": 4
}
